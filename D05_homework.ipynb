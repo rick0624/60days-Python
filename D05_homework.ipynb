{
 "cells": [
  {
   "cell_type": "code",
   "execution_count": 1,
   "metadata": {},
   "outputs": [],
   "source": [
    "import numpy as np"
   ]
  },
  {
   "cell_type": "markdown",
   "metadata": {},
   "source": [
    "# Q1"
   ]
  },
  {
   "cell_type": "code",
   "execution_count": 2,
   "metadata": {},
   "outputs": [],
   "source": [
    "english_score = np.array([55,89,76,65,48,70])\n",
    "math_score = np.array([60,85,60,68,np.nan,60])\n",
    "chinese_score = np.array([65,90,82,72,66,77])"
   ]
  },
  {
   "cell_type": "code",
   "execution_count": 3,
   "metadata": {},
   "outputs": [
    {
     "name": "stdout",
     "output_type": "stream",
     "text": [
      "英文平均: 67.16666666666667\n",
      "英文最大值: 89\n",
      "英文最小值: 48\n",
      "英文標準差: 13.433995020924426 \n",
      "\n",
      "數學平均: 66.6\n",
      "數學最大值: 85.0\n",
      "數學最小值: 60.0\n",
      "數學標準差: 9.707728879609279 \n",
      "\n",
      "國文平均: 75.33333333333333\n",
      "國文最大值: 90\n",
      "國文最小值: 65\n",
      "國文標準差: 8.825468196582484\n"
     ]
    }
   ],
   "source": [
    "#英文\n",
    "english_average = np.mean(english_score)\n",
    "english_max = np.nanmax(english_score)\n",
    "english_min = np.nanmin(english_score)\n",
    "english_std = np.std(english_score)\n",
    "print(\"英文平均:\",english_average)\n",
    "print(\"英文最大值:\",english_max)\n",
    "print(\"英文最小值:\",english_min)\n",
    "print(\"英文標準差:\",english_std,\"\\n\")\n",
    "#數學\n",
    "math_average = np.nanmean(math_score)\n",
    "math_max = np.nanmax(math_score)\n",
    "math_min = np.nanmin(math_score)\n",
    "math_std = np.nanstd(math_score)\n",
    "print(\"數學平均:\",math_average)\n",
    "print(\"數學最大值:\",math_max)\n",
    "print(\"數學最小值:\",math_min)\n",
    "print(\"數學標準差:\",math_std,\"\\n\")\n",
    "#國文\n",
    "chinese_average = np.mean(chinese_score)\n",
    "chinese_max = np.nanmax(chinese_score)\n",
    "chinese_min = np.nanmin(chinese_score)\n",
    "chinese_std = np.std(chinese_score)\n",
    "print(\"國文平均:\",chinese_average)\n",
    "print(\"國文最大值:\",chinese_max)\n",
    "print(\"國文最小值:\",chinese_min)\n",
    "print(\"國文標準差:\",chinese_std)"
   ]
  },
  {
   "cell_type": "markdown",
   "metadata": {},
   "source": [
    "# Q2"
   ]
  },
  {
   "cell_type": "code",
   "execution_count": 4,
   "metadata": {},
   "outputs": [],
   "source": [
    "math_score[4] = 55\n",
    "math_average = np.nanmean(math_score)"
   ]
  },
  {
   "cell_type": "code",
   "execution_count": 5,
   "metadata": {},
   "outputs": [
    {
     "name": "stdout",
     "output_type": "stream",
     "text": [
      "數學平均: 64.66666666666667\n",
      "數學最大值: 85.0\n",
      "數學最小值: 55.0\n",
      "數學標準差: 9.860132971832694\n"
     ]
    }
   ],
   "source": [
    "math_average = np.nanmean(math_score)\n",
    "math_max = np.nanmax(math_score)\n",
    "math_min = np.nanmin(math_score)\n",
    "math_std = np.nanstd(math_score)\n",
    "print(\"數學平均:\",math_average)\n",
    "print(\"數學最大值:\",math_max)\n",
    "print(\"數學最小值:\",math_min)\n",
    "print(\"數學標準差:\",math_std)"
   ]
  },
  {
   "cell_type": "markdown",
   "metadata": {},
   "source": [
    "# Q3"
   ]
  },
  {
   "cell_type": "code",
   "execution_count": 6,
   "metadata": {},
   "outputs": [],
   "source": [
    "a = np.corrcoef(english_score,chinese_score,rowvar=True)\n",
    "b = np.corrcoef(math_score,chinese_score,rowvar=True)"
   ]
  },
  {
   "cell_type": "code",
   "execution_count": 7,
   "metadata": {},
   "outputs": [
    {
     "name": "stdout",
     "output_type": "stream",
     "text": [
      "英文\n"
     ]
    }
   ],
   "source": [
    "if a[0][1]>b[0][1]:\n",
    "    print(\"英文\")\n",
    "else:\n",
    "    print(\"數學\")"
   ]
  }
 ],
 "metadata": {
  "kernelspec": {
   "display_name": "Python 3",
   "language": "python",
   "name": "python3"
  },
  "language_info": {
   "codemirror_mode": {
    "name": "ipython",
    "version": 3
   },
   "file_extension": ".py",
   "mimetype": "text/x-python",
   "name": "python",
   "nbconvert_exporter": "python",
   "pygments_lexer": "ipython3",
   "version": "3.8.3"
  }
 },
 "nbformat": 4,
 "nbformat_minor": 4
}
